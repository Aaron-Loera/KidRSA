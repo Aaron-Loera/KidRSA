{
 "cells": [
  {
   "cell_type": "markdown",
   "metadata": {},
   "source": [
    "<h1>KidRSA Cryptography</h1>\n",
    "<h3>Overview:</h3>\n",
    "<ol>\n",
    "    <li>Key Generation</li>\n",
    "    <li>Encoding/Decoding Function</li>\n",
    "    <li>Applying KidRSA</li>\n",
    "    <li>Euclid's Algorithm</li>\n",
    "    <li>Hacking KidRSA</li>\n",
    "</ol>\n"
   ]
  },
  {
   "cell_type": "markdown",
   "metadata": {},
   "source": [
    "<h3>Key Generation:</h3>"
   ]
  },
  {
   "cell_type": "code",
   "execution_count": 3,
   "metadata": {},
   "outputs": [
    {
     "data": {
      "text/plain": [
       "((39733, 793199843.0), (6448130, 793199843.0))"
      ]
     },
     "execution_count": 3,
     "metadata": {},
     "output_type": "execute_result"
    }
   ],
   "source": [
    "# Declaring some random initial variables\n",
    "a  = 4\n",
    "b = 81\n",
    "a_prime = 123\n",
    "b_prime = 19963\n",
    "\n",
    "def kidrsa_keygen(a:int, b:int, a_prime:int, b_prime:int):\n",
    "    \"\"\"This is the key generation function for the KidRSA algorithm. It takes four integers as inputs\n",
    "    and returns the public (e,n) and private (d,n) keys computed.\"\"\"\n",
    "    M = (a * b) - 1\n",
    "    e = a_prime * M + a\n",
    "    d = b_prime * M + b\n",
    "    n = (e * d - 1) / M\n",
    "    return (e,n), (d,n)\n",
    "\n",
    "kidrsa_keygen(a,b,a_prime, b_prime)"
   ]
  }
 ],
 "metadata": {
  "kernelspec": {
   "display_name": "base",
   "language": "python",
   "name": "python3"
  },
  "language_info": {
   "codemirror_mode": {
    "name": "ipython",
    "version": 3
   },
   "file_extension": ".py",
   "mimetype": "text/x-python",
   "name": "python",
   "nbconvert_exporter": "python",
   "pygments_lexer": "ipython3",
   "version": "3.12.4"
  }
 },
 "nbformat": 4,
 "nbformat_minor": 2
}
