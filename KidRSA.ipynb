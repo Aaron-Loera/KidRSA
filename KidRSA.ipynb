{
 "cells": [
  {
   "cell_type": "markdown",
   "metadata": {},
   "source": [
    "<h1>KidRSA Cryptography</h1>\n",
    "<h3>Overview:</h3>\n",
    "<ol>\n",
    "    <li>Key Generation</li>\n",
    "    <li>Encoding/Decoding Function</li>\n",
    "    <li>Applying KidRSA</li>\n",
    "    <li>Euclid's Algorithm</li>\n",
    "    <li>Hacking KidRSA</li>\n",
    "</ol>\n"
   ]
  },
  {
   "cell_type": "markdown",
   "metadata": {},
   "source": [
    "<h3>Key Generation:</h3>"
   ]
  },
  {
   "cell_type": "code",
   "execution_count": 87,
   "metadata": {},
   "outputs": [
    {
     "name": "stdout",
     "output_type": "stream",
     "text": [
      "Public Key: (39733, 793199843.0)\n",
      "Private Key: (6448130, 793199843.0)\n"
     ]
    }
   ],
   "source": [
    "# Declaring some random initial variables\n",
    "a  = 4\n",
    "b = 81\n",
    "a_prime = 123\n",
    "b_prime = 19963\n",
    "\n",
    "def kidrsa_keygen(a:int, b:int, a_prime:int, b_prime:int):\n",
    "    \"\"\"This is the key generation function for the KidRSA algorithm. It takes four integers as inputs\n",
    "    and returns the public (e,n) and private (d,n) keys.\"\"\"\n",
    "    M = (a * b) - 1\n",
    "    e = a_prime * M + a\n",
    "    d = b_prime * M + b\n",
    "    n = (e * d - 1) / M\n",
    "    return (e,n), (d,n)\n",
    "\n",
    "public_key, private_key = kidrsa_keygen(a, b, a_prime, b_prime)\n",
    "print(f\"Public Key: {public_key}\")\n",
    "print(f\"Private Key: {private_key}\")"
   ]
  },
  {
   "cell_type": "markdown",
   "metadata": {},
   "source": [
    "<h3>Encoding/Decoding Function:</h3>"
   ]
  },
  {
   "cell_type": "code",
   "execution_count": 88,
   "metadata": {},
   "outputs": [],
   "source": [
    "def encode(input_string:str):\n",
    "    \"\"\"Encodes and returns the ordinal (numerical) value of the inputted string as a list\"\"\"\n",
    "    out = []\n",
    "    for char in input_string:\n",
    "        out.append(ord(char))\n",
    "    return out"
   ]
  },
  {
   "cell_type": "code",
   "execution_count": 89,
   "metadata": {},
   "outputs": [],
   "source": [
    "def decode(input_list:list):\n",
    "    \"\"\"Decodes the list of ordinals passed in and returns a string of characters\"\"\"\n",
    "    out = \"\"\n",
    "    for num in input_list:\n",
    "        out += chr(int(num))\n",
    "    return out"
   ]
  },
  {
   "cell_type": "code",
   "execution_count": 90,
   "metadata": {},
   "outputs": [
    {
     "name": "stdout",
     "output_type": "stream",
     "text": [
      "Encoded: [72, 101, 108, 108, 111, 32, 87, 111, 114, 108, 100]\n",
      "Decoded: Hello World\n"
     ]
    }
   ],
   "source": [
    "encoding = encode(\"Hello World\")\n",
    "decoding = decode(encoding)\n",
    "print(f\"Encoded: {encoding}\")\n",
    "print(f\"Decoded: {decoding}\")"
   ]
  },
  {
   "cell_type": "markdown",
   "metadata": {},
   "source": [
    "<h3>Appying KidRSA:</h3>"
   ]
  },
  {
   "cell_type": "code",
   "execution_count": 91,
   "metadata": {},
   "outputs": [],
   "source": [
    "def kidrsa_single(key:tuple, ordinal:int):\n",
    "    \"\"\"A helper function that pplies the KidRSA algorithm to a single integer using the \n",
    "    key (can be either public or private key) and ordinal passed in. Returns the modulo \n",
    "    of the multiplied values.\"\"\"\n",
    "    x,n = key\n",
    "    return (x * ordinal) % n"
   ]
  },
  {
   "cell_type": "code",
   "execution_count": 92,
   "metadata": {},
   "outputs": [],
   "source": [
    "def kidrsa(key:tuple, message:str|list):\n",
    "    \"\"\"A full-fledged KidRSA algorithm. Due to its symmetric nature this function works for both encryption and decryption.\n",
    "    Depending on the type of inputted message, the algorithm can decrypt a list of ordinals using a private key or encrypt a message\n",
    "    using a public key. The returned output is either a list of ordinals or a string of characters.\"\"\"\n",
    "    out_list = []\n",
    "    if type(message) == str:\n",
    "        msg_list = encode(message)\n",
    "    elif type(message) == list:\n",
    "        msg_list = message[:]\n",
    "    for x in msg_list:\n",
    "        out_list.append(kidrsa_single(key, x))\n",
    "    if type(message) == list:\n",
    "        return decode(out_list)\n",
    "    else:\n",
    "        return out_list"
   ]
  },
  {
   "cell_type": "code",
   "execution_count": 93,
   "metadata": {},
   "outputs": [
    {
     "name": "stdout",
     "output_type": "stream",
     "text": [
      "Decrypted Message: It's a dangerous business, Frodo, going out your door.\n"
     ]
    }
   ],
   "source": [
    "msg = [2900509, 4609028, 1549587, 4569295, 1271456, 3854101, 1271456,\n",
    "3973300, 3854101, 4370630, 4092499, 4013033, 4529562, 4410363,\n",
    "4648761, 4569295, 1271456, 3893834, 4648761, 4569295, 4171965,\n",
    "4370630, 4013033, 4569295, 4569295, 1748252, 1271456, 2781310,\n",
    "4529562, 4410363, 3973300, 4410363, 1748252, 1271456, 4092499,\n",
    "4410363, 4171965, 4370630, 4092499, 1271456, 4410363, 4648761,\n",
    "4609028, 1271456, 4807693, 4410363, 4648761, 4529562, 1271456,\n",
    "3973300, 4410363, 4410363, 4529562, 1827718]\n",
    "\n",
    "decryption = kidrsa(private_key, msg)\n",
    "print(f\"Decrypted Message: {decryption}\")"
   ]
  },
  {
   "cell_type": "markdown",
   "metadata": {},
   "source": [
    "<h3>Euclid's Algorithm (GCD):</h3>"
   ]
  },
  {
   "cell_type": "code",
   "execution_count": 94,
   "metadata": {},
   "outputs": [
    {
     "name": "stdout",
     "output_type": "stream",
     "text": [
      "12\n"
     ]
    }
   ],
   "source": [
    "def gcd(n:int, e:int):\n",
    "    \"\"\"An implementation of Euclid's algorithm. This function iteratively uses the divisor \n",
    "    and remainder to find the greatest common divisor between the two integers passed in.\"\"\"\n",
    "    a,b = n, e\n",
    "    q,r = divmod(a,b)\n",
    "    while r != 0:\n",
    "        a,b = b,r\n",
    "        q,r = divmod(a,b)\n",
    "    return b\n",
    "\n",
    "print(gcd(24,12))"
   ]
  },
  {
   "cell_type": "code",
   "execution_count": 95,
   "metadata": {},
   "outputs": [
    {
     "name": "stdout",
     "output_type": "stream",
     "text": [
      "Greatest Commone Divisor: 1.0\n",
      "Computed d: 6448130.0\n"
     ]
    }
   ],
   "source": [
    "def enhanced_gcd(n:int, e:int):\n",
    "    \"\"\"An enhanced version of the gcd function. Given that gcd can be represented as a linear combination (i.e. s*a + t*b = gcd(a,b) \n",
    "    for some integers s and t), this function keeps track of all the t's computed. The function then returns the greatest common divisor\n",
    "    along with the last t value (i.e. 'd', the other component used for the private key).\"\"\"\n",
    "    t = [0, 1]\n",
    "    a,b = n,e\n",
    "    q,r = divmod(a,b)\n",
    "    while r != 0:\n",
    "        t.append(t[-2] - q * t[-1])\n",
    "        a,b = b,r\n",
    "        q,r = divmod(a,b)\n",
    "    return (b, t[-1])\n",
    "\n",
    "e,n = public_key\n",
    "gcd,d = (enhanced_gcd(n, e))\n",
    "print(f\"Greatest Commone Divisor: {gcd}\")\n",
    "print(f\"Computed d: {d}\")"
   ]
  },
  {
   "cell_type": "markdown",
   "metadata": {},
   "source": [
    "<h3>Hacking KidRSA:</h3>"
   ]
  },
  {
   "cell_type": "code",
   "execution_count": 96,
   "metadata": {},
   "outputs": [
    {
     "name": "stdout",
     "output_type": "stream",
     "text": [
      "Public Key: (29959, 692073.0)\n",
      "Private Key: (3442, 692073.0)\n",
      "Encrypted message: [440337.0, 347444.0, 377403.0, 676993.0, 266615.0, 377403.0, 676993.0, 266615.0, 137731.0, 266615.0, 14879.0, 557157.0, 587116.0, 266615.0, 676993.0, 257567.0, 197649.0, 257567.0, 647034.0, 257567.0, 14879.0, 266615.0, 497239.0, 257567.0, 676993.0, 676993.0, 137731.0, 317485.0, 257567.0, 266615.0, 14879.0, 347444.0, 137731.0, 527198.0, 266615.0, 197649.0, 137731.0, 527198.0, 527198.0, 557157.0, 14879.0, 266615.0, 167690.0, 257567.0, 266615.0, 377403.0, 527198.0, 14879.0, 257567.0, 647034.0, 197649.0, 257567.0, 587116.0, 14879.0, 257567.0, 227608.0, 296574.0]\n",
      "Greatest Common Divisor between 692073.0 (n) and 29959 (e) is: 1.0\n",
      "The computed value for d is: 3442.0\n",
      "Decrypted message using computed 'd': This is a top seceret message than cannot be intercepted!\n"
     ]
    }
   ],
   "source": [
    "# Generating a pair of public and private keys using random values\n",
    "public_key, private_key = kidrsa_keygen(10, 15, 201, 23)\n",
    "print(f\"Public Key: {public_key}\")\n",
    "print(f\"Private Key: {private_key}\")\n",
    "\n",
    "# Creating a message to be encrypted\n",
    "message = \"This is a top seceret message than cannot be intercepted!\"\n",
    "encrypted_msg = kidrsa(public_key, message)\n",
    "print(f\"Encrypted message: {encrypted_msg}\")\n",
    "\n",
    "# Using the enhance gcd function to discover the gcd between \"n\" and \"e\" and the private key value \"d\"\n",
    "e,n = public_key\n",
    "gcd, d = enhanced_gcd(n, e)\n",
    "print(f\"Greatest Common Divisor between {n} (n) and {e} (e) is: {gcd}\")\n",
    "print(f\"The computed value for d is: {d}\")\n",
    "\n",
    "# Using the computed \"d\" value to decrypt the message inputted\n",
    "decrypted_msg = kidrsa((d,n), encrypted_msg)\n",
    "print(f\"Decrypted message using computed 'd': {decrypted_msg}\")"
   ]
  }
 ],
 "metadata": {
  "kernelspec": {
   "display_name": "base",
   "language": "python",
   "name": "python3"
  },
  "language_info": {
   "codemirror_mode": {
    "name": "ipython",
    "version": 3
   },
   "file_extension": ".py",
   "mimetype": "text/x-python",
   "name": "python",
   "nbconvert_exporter": "python",
   "pygments_lexer": "ipython3",
   "version": "3.12.4"
  }
 },
 "nbformat": 4,
 "nbformat_minor": 2
}
