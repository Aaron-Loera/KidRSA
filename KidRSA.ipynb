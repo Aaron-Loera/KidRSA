{
 "cells": [
  {
   "cell_type": "markdown",
   "metadata": {},
   "source": [
    "<h1>KidRSA Cryptography</h1>\n",
    "<h3>Overview:</h3>\n",
    "<ol>\n",
    "    <li>Key Generation</li>\n",
    "    <li>Encoding/Decoding Function</li>\n",
    "    <li>Applying KidRSA</li>\n",
    "    <li>Euclid's Algorithm</li>\n",
    "    <li>Hacking KidRSA</li>\n",
    "</ol>\n"
   ]
  },
  {
   "cell_type": "markdown",
   "metadata": {},
   "source": [
    "<h3>Key Generation:</h3>"
   ]
  },
  {
   "cell_type": "code",
   "execution_count": 31,
   "metadata": {},
   "outputs": [
    {
     "name": "stdout",
     "output_type": "stream",
     "text": [
      "Public Key: (39733, 793199843.0)\n",
      "Private Key: (6448130, 793199843.0)\n"
     ]
    }
   ],
   "source": [
    "# Declaring some random initial variables\n",
    "a  = 4\n",
    "b = 81\n",
    "a_prime = 123\n",
    "b_prime = 19963\n",
    "\n",
    "def kidrsa_keygen(a:int, b:int, a_prime:int, b_prime:int):\n",
    "    \"\"\"This is the key generation function for the KidRSA algorithm. It takes four integers as inputs\n",
    "    and returns the public (e,n) and private (d,n) keys.\"\"\"\n",
    "    M = (a * b) - 1\n",
    "    e = a_prime * M + a\n",
    "    d = b_prime * M + b\n",
    "    n = (e * d - 1) / M\n",
    "    return (e,n), (d,n)\n",
    "\n",
    "public_key, private_key = kidrsa_keygen(a, b, a_prime, b_prime)\n",
    "print(f\"Public Key: {public_key}\")\n",
    "print(f\"Private Key: {private_key}\")"
   ]
  },
  {
   "cell_type": "markdown",
   "metadata": {},
   "source": [
    "<h3>Encoding/Decoding Function:</h3>"
   ]
  },
  {
   "cell_type": "code",
   "execution_count": 32,
   "metadata": {},
   "outputs": [],
   "source": [
    "def encode(input_string:str):\n",
    "    \"\"\"Encodes and returns the ordinal (numerical) value of the inputted string as a list\"\"\"\n",
    "    out = []\n",
    "    for char in input_string:\n",
    "        out.append(ord(char))\n",
    "    return out"
   ]
  },
  {
   "cell_type": "code",
   "execution_count": 33,
   "metadata": {},
   "outputs": [],
   "source": [
    "def decode(input_list:list):\n",
    "    \"\"\"Decodes the list of ordinals passed in and returns a string of characters\"\"\"\n",
    "    out = \"\"\n",
    "    for num in input_list:\n",
    "        out += chr(int(num))\n",
    "    return out"
   ]
  },
  {
   "cell_type": "code",
   "execution_count": 34,
   "metadata": {},
   "outputs": [
    {
     "name": "stdout",
     "output_type": "stream",
     "text": [
      "Encoded: [72, 101, 108, 108, 111, 32, 87, 111, 114, 108, 100]\n",
      "Decoded: Hello World\n"
     ]
    }
   ],
   "source": [
    "encoding = encode(\"Hello World\")\n",
    "decoding = decode(encoding)\n",
    "print(f\"Encoded: {encoding}\")\n",
    "print(f\"Decoded: {decoding}\")"
   ]
  },
  {
   "cell_type": "markdown",
   "metadata": {},
   "source": [
    "<h3>Appying KidRSA:</h3>"
   ]
  },
  {
   "cell_type": "code",
   "execution_count": 35,
   "metadata": {},
   "outputs": [],
   "source": [
    "def kidrsa_single(key:tuple, ordinal:int):\n",
    "    \"\"\"A helper function that pplies the KidRSA algorithm to a single integer using the \n",
    "    key (can be either public or private key) and ordinal passed in. Returns the modulo \n",
    "    of the multiplied values.\"\"\"\n",
    "    x,n = key\n",
    "    return (x * ordinal) % n"
   ]
  },
  {
   "cell_type": "code",
   "execution_count": 36,
   "metadata": {},
   "outputs": [],
   "source": [
    "def kidrsa(key:tuple, message:str|list):\n",
    "    \"\"\"A full-fledged KidRSA algorithm. Due to its symmetric nature this function works for both encryption and decryption.\"\"\"\n",
    "    # x,n = key\n",
    "    out_list = []\n",
    "    if type(message) == str:\n",
    "        msg_list = encode(message)\n",
    "    elif type(message) == list:\n",
    "        msg_list = message[:]\n",
    "    for x in msg_list:\n",
    "        out_list.append(kidrsa_single(key, x))\n",
    "    if type(message) == list:\n",
    "        return decode(out_list)\n",
    "    else:\n",
    "        return out_list"
   ]
  },
  {
   "cell_type": "code",
   "execution_count": 37,
   "metadata": {},
   "outputs": [
    {
     "name": "stdout",
     "output_type": "stream",
     "text": [
      "Decrypted Message: It's a dangerous business, Frodo, going out your door.\n"
     ]
    }
   ],
   "source": [
    "msg = [2900509, 4609028, 1549587, 4569295, 1271456, 3854101, 1271456,\n",
    "3973300, 3854101, 4370630, 4092499, 4013033, 4529562, 4410363,\n",
    "4648761, 4569295, 1271456, 3893834, 4648761, 4569295, 4171965,\n",
    "4370630, 4013033, 4569295, 4569295, 1748252, 1271456, 2781310,\n",
    "4529562, 4410363, 3973300, 4410363, 1748252, 1271456, 4092499,\n",
    "4410363, 4171965, 4370630, 4092499, 1271456, 4410363, 4648761,\n",
    "4609028, 1271456, 4807693, 4410363, 4648761, 4529562, 1271456,\n",
    "3973300, 4410363, 4410363, 4529562, 1827718]\n",
    "\n",
    "decryption = kidrsa(private_key, msg)\n",
    "print(f\"Decrypted Message: {decryption}\")"
   ]
  }
 ],
 "metadata": {
  "kernelspec": {
   "display_name": "base",
   "language": "python",
   "name": "python3"
  },
  "language_info": {
   "codemirror_mode": {
    "name": "ipython",
    "version": 3
   },
   "file_extension": ".py",
   "mimetype": "text/x-python",
   "name": "python",
   "nbconvert_exporter": "python",
   "pygments_lexer": "ipython3",
   "version": "3.12.4"
  }
 },
 "nbformat": 4,
 "nbformat_minor": 2
}
